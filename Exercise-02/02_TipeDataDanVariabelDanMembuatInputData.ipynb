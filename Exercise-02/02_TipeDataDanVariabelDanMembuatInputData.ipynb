{
 "cells": [
  {
   "cell_type": "markdown",
   "metadata": {},
   "source": [
    "# Exercise 2\n",
    "\n",
    "1. Salinlah kode di bawah ini dan isilah titik-titik sesuai dengan perintah yang ada\n",
    "![](./images/02_TipeDataDanVariabel.png)"
   ]
  },
  {
   "cell_type": "code",
   "execution_count": 2,
   "metadata": {},
   "outputs": [
    {
     "name": "stdout",
     "output_type": "stream",
     "text": [
      "Nama lengkap saya adalah Yunita\n",
      "Nama panggilan saya adalah Yunita\n",
      "Umur saya saat ini adalah 18\n",
      "Tipe data variable _umur adalah <class 'int'>\n",
      "Umur saya saat ini adalah delapan belas tahun\n",
      "Tipe data variable _umur adalah <class 'str'>\n",
      "Tinggi badan saya adalah 160.5\n",
      "Tipe data variable tinggi_badan adalah <class 'float'>\n",
      "Saya merupakan mahasiswa angkatan 2021 adalah True\n",
      "Tipe data variable mahasiwaangkatan2021 adalah <class 'bool'>\n"
     ]
    }
   ],
   "source": [
    "#Kerjakan nomor satu disini\n",
    "Nama = \"Yunita\"\n",
    "nama = \"Yunita\"\n",
    "print(\"Nama lengkap saya adalah\", Nama)\n",
    "print(\"Nama panggilan saya adalah\", nama)\n",
    "_umur = 18\n",
    "print(\"Umur saya saat ini adalah\", _umur)\n",
    "print(\"Tipe data variable _umur adalah\", type(_umur))\n",
    "_umur = \"delapan belas tahun\"\n",
    "print(\"Umur saya saat ini adalah\", _umur)\n",
    "print(\"Tipe data variable _umur adalah\", type(_umur))\n",
    "tinggi_badan = 160.5\n",
    "print(\"Tinggi badan saya adalah\", tinggi_badan)\n",
    "print(\"Tipe data variable tinggi_badan adalah\", type(tinggi_badan))\n",
    "mahasiswaangkatan2021 = True\n",
    "print(\"Saya merupakan mahasiswa angkatan 2021 adalah\", mahasiswaangkatan2021)\n",
    "print(\"Tipe data variable mahasiwaangkatan2021 adalah\", type(mahasiswaangkatan2021))\n"
   ]
  },
  {
   "cell_type": "markdown",
   "metadata": {},
   "source": [
    "2. Salinlah kode di bawah ini dan isilah titik-titik sesuai dengan perintah yang ada\n",
    "![](./images/02_MembuatInputData.png)"
   ]
  },
  {
   "cell_type": "code",
   "execution_count": 4,
   "metadata": {},
   "outputs": [
    {
     "name": "stdout",
     "output_type": "stream",
     "text": [
      "Program Konversi Panjang dalam Meter ke Berbagai Satuan\n",
      "\n",
      "\n",
      "12 m = 0.012 km\n",
      "12 m = 1200 cm\n",
      "12 m = 12000 mm\n",
      "12 m = 12000000 µm\n",
      "12 m = 12000000000 nm\n",
      "12 m = 4724.4094 in\n",
      "12 m = 393.7008 ft\n",
      "12 m = 131.2336 yard\n",
      "12 m = 0.0746 mi\n",
      "12 m = 0.0065 nmi\n"
     ]
    }
   ],
   "source": [
    "#Kerjakan nomor satu disini\n",
    "#simbol miu --> μ\n",
    "print(\"Program Konversi Panjang dalam Meter ke Berbagai Satuan\")\n",
    "print(\"\")\n",
    "length = int(input(\"Masukkan nilai panjang dalam meter: \"))\n",
    "feet = length / 0.03048\n",
    "print(\"\")\n",
    "print(length, \"m =\", length / 1000, \"km\")\n",
    "print(length, \"m =\", length * 100, \"cm\")\n",
    "print(length, \"m =\", length * 1000, \"mm\")\n",
    "print(length, \"m =\", length * 1000000, \"µm\")\n",
    "print(length, \"m =\", length * 1000000000, \"nm\")\n",
    "print(length, \"m =\", round(feet * 12, 4), \"in\")\n",
    "print(length, \"m =\", round(feet, 4), \"ft\")\n",
    "print(length, \"m =\", round(feet / 3, 4), \"yard\")\n",
    "print(length, \"m =\", round(feet / 5280, 4), \"mi\")\n",
    "print(length, \"m =\", round(length / 1852, 4), \"nmi\")\n"
   ]
  },
  {
   "cell_type": "markdown",
   "metadata": {},
   "source": [
    "### Cara Pengumpulan\n",
    "\n",
    "1. Buka *New Terminal*\n",
    "2. Pastikan *path* Terminal adalah folder repositori kalian (NIM-Nama-Prokom).\n",
    "3. Tambahkan file yang akan ditrack dengan `git add <nama file>`. Nama file bisa diubah . (titik) yang artinya semua file dalam folder akan ditrack.\n",
    "4. Lakukan commit perubahan dengan `git commit -m <deskripsi>`.\n",
    "5. Lakukan push dengan `git push -u origin <nama branch>`. Nama branch dapat diketahui dengan `git branch`.\n",
    "6. Pastikan Exercise-02 telah terupload dan dapat diakses di repositori dengan mengaksesnya di browser."
   ]
  }
 ],
 "metadata": {
  "interpreter": {
   "hash": "ac59ebe37160ed0dfa835113d9b8498d9f09ceb179beaac4002f036b9467c963"
  },
  "kernelspec": {
   "display_name": "Python 3.9.8 64-bit",
   "language": "python",
   "name": "python3"
  },
  "language_info": {
   "codemirror_mode": {
    "name": "ipython",
    "version": 3
   },
   "file_extension": ".py",
   "mimetype": "text/x-python",
   "name": "python",
   "nbconvert_exporter": "python",
   "pygments_lexer": "ipython3",
   "version": "3.10.2"
  },
  "orig_nbformat": 4
 },
 "nbformat": 4,
 "nbformat_minor": 2
}
