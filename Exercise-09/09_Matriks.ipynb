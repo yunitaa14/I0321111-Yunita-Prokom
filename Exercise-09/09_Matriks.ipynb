{
 "cells": [
  {
   "cell_type": "markdown",
   "metadata": {},
   "source": [
    "# Exercise 09  \n",
    "### OPERASI MATRIKS  \n",
    "Silahkan lengkapi kode yang rumpang sesuai perintah yang diberikan.\n"
   ]
  },
  {
   "cell_type": "markdown",
   "metadata": {},
   "source": [
    "![](./image/1.png)"
   ]
  },
  {
   "cell_type": "code",
   "execution_count": 32,
   "metadata": {},
   "outputs": [],
   "source": [
    "A = [[115,115],\n",
    "     [115,115]]\n",
    "\n",
    "B = [[107, 107],\n",
    "     [107, 107]]\n"
   ]
  },
  {
   "cell_type": "markdown",
   "metadata": {},
   "source": [
    "Buatlah matriks menggunakan metode perulangan for dengan ketentuan sebagai berikut:\n",
    "* Matriks A berisi angka sebesar 4 setelah nim kalian. (ex: nim = 12, nilai matriks [16, 16],[16,16])\n",
    "* Matriks B berisi angka sebesar 4 sebelum nim kalian. (ex: nim = 12, nilai matriks [8, 8],[8,8])\n"
   ]
  },
  {
   "cell_type": "code",
   "execution_count": 33,
   "metadata": {},
   "outputs": [
    {
     "name": "stdout",
     "output_type": "stream",
     "text": [
      "[[115, 115], [115, 115]]\n",
      "[[107, 107], [107, 107]]\n"
     ]
    }
   ],
   "source": [
    "def create(matriks, nim):\n",
    "    for i in range(0,2):\n",
    "        for k in range(0,2):\n",
    "            matriks[1][1] = nim\n",
    "create(A, 115)\n",
    "create(B, 107)\n",
    "\n",
    "print(A)\n",
    "print(B)"
   ]
  },
  {
   "cell_type": "markdown",
   "metadata": {},
   "source": [
    "## KERJAKAN SOAL BERIKUT\n",
    "1. Buatlah program penjumlahan matriks A dan B.\n",
    "2. Buatlah program pengurangan matriks A dan B.\n",
    "3. Buatlah program perkalian matriks A dan B."
   ]
  },
  {
   "cell_type": "code",
   "execution_count": 54,
   "metadata": {},
   "outputs": [
    {
     "name": "stdout",
     "output_type": "stream",
     "text": [
      "\n",
      "222  222  \n",
      "\n",
      "222  222  \n"
     ]
    }
   ],
   "source": [
    "#SOAL-1\n",
    "#YOUR CODE HERE\n",
    "\n",
    "for x in range(len(A)):\n",
    "    print()\n",
    "    for y in range(len(A[0])):\n",
    "        print (A[x][y] + B[x][y], end='  '),\n",
    "    print()\n"
   ]
  },
  {
   "cell_type": "code",
   "execution_count": 53,
   "metadata": {},
   "outputs": [
    {
     "name": "stdout",
     "output_type": "stream",
     "text": [
      "\n",
      "8  8  \n",
      "\n",
      "8  8  \n"
     ]
    }
   ],
   "source": [
    "#SOAL-2\n",
    "#YOUR CODE HERE\n",
    "\n",
    "for x in range(len(A)):\n",
    "    print()\n",
    "    for y in range(len(A[0])):\n",
    "        print (A[x][y] - B[x][y], end='  '),\n",
    "    print()"
   ]
  },
  {
   "cell_type": "code",
   "execution_count": 47,
   "metadata": {},
   "outputs": [
    {
     "name": "stdout",
     "output_type": "stream",
     "text": [
      "[12305, 12305]\n",
      "[12305, 12305]\n"
     ]
    }
   ],
   "source": [
    "#SOAL-3\n",
    "#YOUR CODE HERE\n",
    "\n",
    "C = [[0, 0],\n",
    "    [0, 0]]\n",
    "\n",
    "for x in range(len(A)):\n",
    "    for y in range(len(B[0])):\n",
    "        for z in range(len(B)):\n",
    "            C[x][y] =+ A[x][z]*B[z][y]\n",
    "\n",
    "for hasil in C:\n",
    "    print(hasil)"
   ]
  },
  {
   "cell_type": "markdown",
   "metadata": {},
   "source": [
    "### Cara Pengumpulan\n",
    "\n",
    "1. Buka *New Terminal*\n",
    "2. Pastikan *path* Terminal adalah folder repositori kalian (NIM-Nama-Prokom).\n",
    "3. Tambahkan file yang akan ditrack dengan `git add <nama file>`. Nama file bisa diubah . (titik)  `git add .`yang artinya semua file dalam folder akan ditrack.\n",
    "4. Lakukan commit perubahan dengan `git commit -m <deskripsi>`.\n",
    "5. Lakukan push dengan `git push -u origin <nama branch>`. Nama branch dapat diketahui dengan `git branch`.\n",
    "6. Pastikan Exercise-02 telah terupload dan dapat diakses di repositori dengan mengaksesnya di browser."
   ]
  }
 ],
 "metadata": {
  "interpreter": {
   "hash": "d3473c05bc4c278e2069f522b4b2fd6f5c903cd169b5f7c077b79c5ddfc05d04"
  },
  "kernelspec": {
   "display_name": "Python 3.10.2 64-bit",
   "language": "python",
   "name": "python3"
  },
  "language_info": {
   "codemirror_mode": {
    "name": "ipython",
    "version": 3
   },
   "file_extension": ".py",
   "mimetype": "text/x-python",
   "name": "python",
   "nbconvert_exporter": "python",
   "pygments_lexer": "ipython3",
   "version": "3.10.2"
  },
  "orig_nbformat": 4
 },
 "nbformat": 4,
 "nbformat_minor": 2
}
