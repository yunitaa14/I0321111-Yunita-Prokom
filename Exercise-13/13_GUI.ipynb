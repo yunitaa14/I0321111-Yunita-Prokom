{
 "cells": [
  {
   "cell_type": "markdown",
   "metadata": {},
   "source": [
    "***\n",
    "<h1 align=\"center\">Exercise 13</h1> \n",
    "\n",
    "***\n",
    "## GUI (*Graphical User Interface*)\n",
    "\n",
    "### 1. Pemrograman GUI dengan Tkinter\n",
    "Buatlah kode seperti contoh berikut pada cell di bawah \n",
    "\n",
    "![](./images/13_Tkinter.png)"
   ]
  },
  {
   "cell_type": "code",
   "execution_count": 2,
   "metadata": {},
   "outputs": [],
   "source": [
    "#kerjakan disini\n",
    "import tkinter\n",
    "\n",
    "mainform = tkinter.Tk()\n",
    "\n",
    "mainform.wm_title('Hello')\n",
    "mainform.mainloop()"
   ]
  },
  {
   "cell_type": "markdown",
   "metadata": {},
   "source": [
    "### 2. Membuat dan Menempatkan Kontrol di dalam Form\n",
    "Buatlah kode seperti contoh berikut pada cell di bawah\n",
    "\n",
    "![](./images/13_Form.png)"
   ]
  },
  {
   "cell_type": "code",
   "execution_count": 6,
   "metadata": {},
   "outputs": [
    {
     "ename": "SyntaxError",
     "evalue": "unmatched ')' (2313003976.py, line 20)",
     "output_type": "error",
     "traceback": [
      "\u001b[1;36m  Input \u001b[1;32mIn [6]\u001b[1;36m\u001b[0m\n\u001b[1;33m    )\u001b[0m\n\u001b[1;37m    ^\u001b[0m\n\u001b[1;31mSyntaxError\u001b[0m\u001b[1;31m:\u001b[0m unmatched ')'\n"
     ]
    }
   ],
   "source": [
    "#kerjakan disini\n",
    "import tkinter\n",
    "\n",
    "mainform = tkinter.Tk()\n",
    "#membuat objek label\n",
    "lbl = tkinter.Label(mainform)\n",
    "lbl['text'] = \"Masukkan nama anda\"\n",
    "lbl.pack()\n",
    "#membuat objek entry\n",
    "txt = tkinter.Entry(mainform)\n",
    "txt['width'] = 40\n",
    "txt.pack()\n",
    "#membuat objek button\n",
    "btn = tkinter.Button(mainform)\n",
    "btn['txt'] = \"Lanjut\"\n",
    "btn.pack()\n",
    "\n",
    "mainform.wm_title('Hello!')\n",
    "mainform.mainloop()\n",
    ")"
   ]
  },
  {
   "cell_type": "markdown",
   "metadata": {},
   "source": [
    "### 3. Menangani Event\n",
    "Buatlah kode seperti contoh berikut pada cell di bawah\n",
    "\n",
    "![](./images/13_Buttonclick.png)"
   ]
  },
  {
   "cell_type": "code",
   "execution_count": 19,
   "metadata": {},
   "outputs": [
    {
     "ename": "TclError",
     "evalue": "unknown option \"-txt\"",
     "output_type": "error",
     "traceback": [
      "\u001b[1;31m---------------------------------------------------------------------------\u001b[0m",
      "\u001b[1;31mTclError\u001b[0m                                  Traceback (most recent call last)",
      "\u001b[1;32mc:\\Users\\YUNITA\\Documents\\Tugas Praktikum Prokom\\I0321111-Yunita-Prokom\\Exercise-13\\13_GUI.ipynb Cell 6'\u001b[0m in \u001b[0;36m<cell line: 19>\u001b[1;34m()\u001b[0m\n\u001b[0;32m     <a href='vscode-notebook-cell:/c%3A/Users/YUNITA/Documents/Tugas%20Praktikum%20Prokom/I0321111-Yunita-Prokom/Exercise-13/13_GUI.ipynb#ch0000005?line=16'>17</a>\u001b[0m \u001b[39m#membuat objek button\u001b[39;00m\n\u001b[0;32m     <a href='vscode-notebook-cell:/c%3A/Users/YUNITA/Documents/Tugas%20Praktikum%20Prokom/I0321111-Yunita-Prokom/Exercise-13/13_GUI.ipynb#ch0000005?line=17'>18</a>\u001b[0m btn \u001b[39m=\u001b[39m tkinter\u001b[39m.\u001b[39mButton(mainform, command\u001b[39m=\u001b[39mbuttonclick)\n\u001b[1;32m---> <a href='vscode-notebook-cell:/c%3A/Users/YUNITA/Documents/Tugas%20Praktikum%20Prokom/I0321111-Yunita-Prokom/Exercise-13/13_GUI.ipynb#ch0000005?line=18'>19</a>\u001b[0m btn[\u001b[39m'\u001b[39m\u001b[39mtxt\u001b[39m\u001b[39m'\u001b[39m] \u001b[39m=\u001b[39m \u001b[39m'\u001b[39m\u001b[39mLanjut\u001b[39m\u001b[39m'\u001b[39m\n\u001b[0;32m     <a href='vscode-notebook-cell:/c%3A/Users/YUNITA/Documents/Tugas%20Praktikum%20Prokom/I0321111-Yunita-Prokom/Exercise-13/13_GUI.ipynb#ch0000005?line=19'>20</a>\u001b[0m btn\u001b[39m.\u001b[39mpack()\n\u001b[0;32m     <a href='vscode-notebook-cell:/c%3A/Users/YUNITA/Documents/Tugas%20Praktikum%20Prokom/I0321111-Yunita-Prokom/Exercise-13/13_GUI.ipynb#ch0000005?line=21'>22</a>\u001b[0m mainform\u001b[39m.\u001b[39mwm_title(\u001b[39m'\u001b[39m\u001b[39mHello\u001b[39m\u001b[39m'\u001b[39m)\n",
      "File \u001b[1;32mc:\\Users\\YUNITA\\AppData\\Local\\Programs\\Python\\Python310\\lib\\tkinter\\__init__.py:1686\u001b[0m, in \u001b[0;36mMisc.__setitem__\u001b[1;34m(self, key, value)\u001b[0m\n\u001b[0;32m   <a href='file:///c%3A/Users/YUNITA/AppData/Local/Programs/Python/Python310/lib/tkinter/__init__.py?line=1684'>1685</a>\u001b[0m \u001b[39mdef\u001b[39;00m \u001b[39m__setitem__\u001b[39m(\u001b[39mself\u001b[39m, key, value):\n\u001b[1;32m-> <a href='file:///c%3A/Users/YUNITA/AppData/Local/Programs/Python/Python310/lib/tkinter/__init__.py?line=1685'>1686</a>\u001b[0m     \u001b[39mself\u001b[39;49m\u001b[39m.\u001b[39;49mconfigure({key: value})\n",
      "File \u001b[1;32mc:\\Users\\YUNITA\\AppData\\Local\\Programs\\Python\\Python310\\lib\\tkinter\\__init__.py:1675\u001b[0m, in \u001b[0;36mMisc.configure\u001b[1;34m(self, cnf, **kw)\u001b[0m\n\u001b[0;32m   <a href='file:///c%3A/Users/YUNITA/AppData/Local/Programs/Python/Python310/lib/tkinter/__init__.py?line=1667'>1668</a>\u001b[0m \u001b[39mdef\u001b[39;00m \u001b[39mconfigure\u001b[39m(\u001b[39mself\u001b[39m, cnf\u001b[39m=\u001b[39m\u001b[39mNone\u001b[39;00m, \u001b[39m*\u001b[39m\u001b[39m*\u001b[39mkw):\n\u001b[0;32m   <a href='file:///c%3A/Users/YUNITA/AppData/Local/Programs/Python/Python310/lib/tkinter/__init__.py?line=1668'>1669</a>\u001b[0m     \u001b[39m\"\"\"Configure resources of a widget.\u001b[39;00m\n\u001b[0;32m   <a href='file:///c%3A/Users/YUNITA/AppData/Local/Programs/Python/Python310/lib/tkinter/__init__.py?line=1669'>1670</a>\u001b[0m \n\u001b[0;32m   <a href='file:///c%3A/Users/YUNITA/AppData/Local/Programs/Python/Python310/lib/tkinter/__init__.py?line=1670'>1671</a>\u001b[0m \u001b[39m    The values for resources are specified as keyword\u001b[39;00m\n\u001b[0;32m   <a href='file:///c%3A/Users/YUNITA/AppData/Local/Programs/Python/Python310/lib/tkinter/__init__.py?line=1671'>1672</a>\u001b[0m \u001b[39m    arguments. To get an overview about\u001b[39;00m\n\u001b[0;32m   <a href='file:///c%3A/Users/YUNITA/AppData/Local/Programs/Python/Python310/lib/tkinter/__init__.py?line=1672'>1673</a>\u001b[0m \u001b[39m    the allowed keyword arguments call the method keys.\u001b[39;00m\n\u001b[0;32m   <a href='file:///c%3A/Users/YUNITA/AppData/Local/Programs/Python/Python310/lib/tkinter/__init__.py?line=1673'>1674</a>\u001b[0m \u001b[39m    \"\"\"\u001b[39;00m\n\u001b[1;32m-> <a href='file:///c%3A/Users/YUNITA/AppData/Local/Programs/Python/Python310/lib/tkinter/__init__.py?line=1674'>1675</a>\u001b[0m     \u001b[39mreturn\u001b[39;00m \u001b[39mself\u001b[39;49m\u001b[39m.\u001b[39;49m_configure(\u001b[39m'\u001b[39;49m\u001b[39mconfigure\u001b[39;49m\u001b[39m'\u001b[39;49m, cnf, kw)\n",
      "File \u001b[1;32mc:\\Users\\YUNITA\\AppData\\Local\\Programs\\Python\\Python310\\lib\\tkinter\\__init__.py:1665\u001b[0m, in \u001b[0;36mMisc._configure\u001b[1;34m(self, cmd, cnf, kw)\u001b[0m\n\u001b[0;32m   <a href='file:///c%3A/Users/YUNITA/AppData/Local/Programs/Python/Python310/lib/tkinter/__init__.py?line=1662'>1663</a>\u001b[0m \u001b[39mif\u001b[39;00m \u001b[39misinstance\u001b[39m(cnf, \u001b[39mstr\u001b[39m):\n\u001b[0;32m   <a href='file:///c%3A/Users/YUNITA/AppData/Local/Programs/Python/Python310/lib/tkinter/__init__.py?line=1663'>1664</a>\u001b[0m     \u001b[39mreturn\u001b[39;00m \u001b[39mself\u001b[39m\u001b[39m.\u001b[39m_getconfigure1(_flatten((\u001b[39mself\u001b[39m\u001b[39m.\u001b[39m_w, cmd, \u001b[39m'\u001b[39m\u001b[39m-\u001b[39m\u001b[39m'\u001b[39m\u001b[39m+\u001b[39mcnf)))\n\u001b[1;32m-> <a href='file:///c%3A/Users/YUNITA/AppData/Local/Programs/Python/Python310/lib/tkinter/__init__.py?line=1664'>1665</a>\u001b[0m \u001b[39mself\u001b[39;49m\u001b[39m.\u001b[39;49mtk\u001b[39m.\u001b[39;49mcall(_flatten((\u001b[39mself\u001b[39;49m\u001b[39m.\u001b[39;49m_w, cmd)) \u001b[39m+\u001b[39;49m \u001b[39mself\u001b[39;49m\u001b[39m.\u001b[39;49m_options(cnf))\n",
      "\u001b[1;31mTclError\u001b[0m: unknown option \"-txt\""
     ]
    }
   ],
   "source": [
    "#kerjakan disini\n",
    "import tkinter\n",
    "import tkinter.messagebox as massagebox\n",
    "\n",
    "mainform = tkinter.Tk()\n",
    "#membuat event\n",
    "def buttonclick():\n",
    "    massagebox.showinfo('Hallo', 'Hallo %s, apa kabar?' % (txt.get()))\n",
    "#membuat objek label\n",
    "lbl = tkinter.Label(mainform)\n",
    "lbl['text'] = 'Masukkan nama anda'\n",
    "lbl.pack()\n",
    "#membuat objek entry\n",
    "txt = tkinter.Entry(mainform)\n",
    "txt['width'] = 40\n",
    "txt.pack()\n",
    "#membuat objek button\n",
    "btn = tkinter.Button(mainform, command=buttonclick)\n",
    "btn['txt'] = 'Lanjut'\n",
    "btn.pack()\n",
    "\n",
    "mainform.wm_title('Hello')\n",
    "mainform.mainloop()"
   ]
  },
  {
   "cell_type": "markdown",
   "metadata": {},
   "source": [
    "### 4. Mengatur Tampilan Form dengan Grid Manager\n",
    "Buatlah kode seperti contoh berikut pada cell di bawah\n",
    "\n",
    "![](./images/13_RememberA.png)\n",
    "![](./images/13_RememberB.png)"
   ]
  },
  {
   "cell_type": "code",
   "execution_count": 2,
   "metadata": {},
   "outputs": [],
   "source": [
    "#kerjakan disini\n",
    "import tkinter\n",
    "\n",
    "mainform = tkinter.Tk()\n",
    "#Membuat objek label\n",
    "lbl1 = tkinter.Label(mainform)\n",
    "lbl1['text'] = 'Masukkan nama anda'\n",
    "lbl1.grid(row=0, column=0, sticky=tkinter.E)\n",
    "\n",
    "#membuat objek entry\n",
    "txt1 = tkinter.Entry(mainform)\n",
    "txt1['width'] = 40\n",
    "txt1.grid(row=0, column=1, columnspan=2)\n",
    "\n",
    "txt2 = tkinter.Entry(mainform)\n",
    "txt2['width'] = 40\n",
    "txt2.grid(row=1, column=1, columnspan=2)\n",
    "\n",
    "chk = tkinter.Checkbutton(mainform)\n",
    "chk['text'] = 'Remember me'\n",
    "chk.grid(row=2, column=0)\n",
    "\n",
    "#membuat objek button\n",
    "btn1 = tkinter.Button(mainform)\n",
    "btn1['text'] = 'Lanjut'\n",
    "btn1.grid(row=2, column=1, sticky=tkinter.N+tkinter.S+tkinter.W)\n",
    "\n",
    "btn2 = tkinter.Button(mainform)\n",
    "btn2['text'] = 'Exit'\n",
    "btn1.grid(row=2, column=2, sticky=tkinter.N+tkinter.S+tkinter.W)\n",
    "\n",
    "mainform.wm_title('Hello')\n",
    "mainform.mainloop()"
   ]
  },
  {
   "cell_type": "markdown",
   "metadata": {},
   "source": [
    "### 5. Menggunakan Kelas Frame\n",
    "Buatlah kode seperti contoh berikut pada cell di bawah\n",
    "\n",
    "![](./images/13_Frame.png)"
   ]
  },
  {
   "cell_type": "code",
   "execution_count": 7,
   "metadata": {},
   "outputs": [],
   "source": [
    "#kerjakan disini\n",
    "import tkinter\n",
    "\n",
    "mainform = tkinter.Frame()\n",
    "mainform.grid()\n",
    "\n",
    "btnout = tkinter.Button(mainform, text=\"keluar\", command=mainform.destroy)\n",
    "btnout.grid(sticky=tkinter.E+tkinter.S, padx=90, pady=90)\n",
    "mainform.master.title('Demo Frame')\n",
    "mainform.mainloop()"
   ]
  },
  {
   "cell_type": "markdown",
   "metadata": {},
   "source": [
    "### 6. Kontrol Button\n",
    "Buatlah kode seperti contoh berikut pada cell di bawah\n",
    "\n",
    "![](./images/13_ClickHere.png)"
   ]
  },
  {
   "cell_type": "code",
   "execution_count": 8,
   "metadata": {},
   "outputs": [],
   "source": [
    "#kerjakan disini\n",
    "import tkinter\n",
    "import tkinter.messagebox\n",
    "\n",
    "def buttonclick():\n",
    "    tkinter.messagebox.showinfo(\"Informasi\", \"Hello!\")\n",
    "def main():\n",
    "    mainform = tkinter.Tk()\n",
    "    mainform.title(\"Demo button\")\n",
    "    mainform.geometry(\"280x200\")\n",
    "\n",
    "    button = tkinter.Button(mainform, text= \"Click here\", background=\"#334477\", width=10, command=buttonclick)\n",
    "    button.grid(sticky=tkinter.E+tkinter.S, padx=90, pady=120)\n",
    "    mainform.mainloop()\n",
    "if __name__ == '__main__':\n",
    "    main()"
   ]
  },
  {
   "cell_type": "markdown",
   "metadata": {},
   "source": [
    "### 7. Kontrol CheckButton\n",
    "Buatlah kode seperti contoh berikut pada cell di bawah\n",
    "\n",
    "![](./images/13_HobiA.png)\n",
    "![](./images/13_HobiB.png)"
   ]
  },
  {
   "cell_type": "code",
   "execution_count": 9,
   "metadata": {},
   "outputs": [
    {
     "ename": "AttributeError",
     "evalue": "module 'tkinter' has no attribute 'w'",
     "output_type": "error",
     "traceback": [
      "\u001b[1;31m---------------------------------------------------------------------------\u001b[0m",
      "\u001b[1;31mAttributeError\u001b[0m                            Traceback (most recent call last)",
      "\u001b[1;32mc:\\Users\\YUNITA\\Documents\\Tugas Praktikum Prokom\\I0321111-Yunita-Prokom\\Exercise-13\\13_GUI.ipynb Cell 14'\u001b[0m in \u001b[0;36m<cell line: 43>\u001b[1;34m()\u001b[0m\n\u001b[0;32m     <a href='vscode-notebook-cell:/c%3A/Users/YUNITA/Documents/Tugas%20Praktikum%20Prokom/I0321111-Yunita-Prokom/Exercise-13/13_GUI.ipynb#ch0000013?line=41'>42</a>\u001b[0m     mainform\u001b[39m.\u001b[39mmainloop()\n\u001b[0;32m     <a href='vscode-notebook-cell:/c%3A/Users/YUNITA/Documents/Tugas%20Praktikum%20Prokom/I0321111-Yunita-Prokom/Exercise-13/13_GUI.ipynb#ch0000013?line=42'>43</a>\u001b[0m \u001b[39mif\u001b[39;00m \u001b[39m__name__\u001b[39m \u001b[39m==\u001b[39m \u001b[39m'\u001b[39m\u001b[39m__main__\u001b[39m\u001b[39m'\u001b[39m:\n\u001b[1;32m---> <a href='vscode-notebook-cell:/c%3A/Users/YUNITA/Documents/Tugas%20Praktikum%20Prokom/I0321111-Yunita-Prokom/Exercise-13/13_GUI.ipynb#ch0000013?line=43'>44</a>\u001b[0m     main()\n",
      "\u001b[1;32mc:\\Users\\YUNITA\\Documents\\Tugas Praktikum Prokom\\I0321111-Yunita-Prokom\\Exercise-13\\13_GUI.ipynb Cell 14'\u001b[0m in \u001b[0;36mmain\u001b[1;34m()\u001b[0m\n\u001b[0;32m     <a href='vscode-notebook-cell:/c%3A/Users/YUNITA/Documents/Tugas%20Praktikum%20Prokom/I0321111-Yunita-Prokom/Exercise-13/13_GUI.ipynb#ch0000013?line=21'>22</a>\u001b[0m \u001b[39m#Kontrol label\u001b[39;00m\n\u001b[0;32m     <a href='vscode-notebook-cell:/c%3A/Users/YUNITA/Documents/Tugas%20Praktikum%20Prokom/I0321111-Yunita-Prokom/Exercise-13/13_GUI.ipynb#ch0000013?line=22'>23</a>\u001b[0m I \u001b[39m=\u001b[39m tkinter\u001b[39m.\u001b[39mLabel(mainform, text\u001b[39m=\u001b[39m\u001b[39m\"\u001b[39m\u001b[39mHobi anda (pilih salah satu): \u001b[39m\u001b[39m\"\u001b[39m)\n\u001b[1;32m---> <a href='vscode-notebook-cell:/c%3A/Users/YUNITA/Documents/Tugas%20Praktikum%20Prokom/I0321111-Yunita-Prokom/Exercise-13/13_GUI.ipynb#ch0000013?line=23'>24</a>\u001b[0m I\u001b[39m.\u001b[39mgrid(row\u001b[39m=\u001b[39m\u001b[39m0\u001b[39m, sticky\u001b[39m=\u001b[39mtkinter\u001b[39m.\u001b[39;49mw)\n\u001b[0;32m     <a href='vscode-notebook-cell:/c%3A/Users/YUNITA/Documents/Tugas%20Praktikum%20Prokom/I0321111-Yunita-Prokom/Exercise-13/13_GUI.ipynb#ch0000013?line=25'>26</a>\u001b[0m \u001b[39m#Membuat checkbutton\u001b[39;00m\n\u001b[0;32m     <a href='vscode-notebook-cell:/c%3A/Users/YUNITA/Documents/Tugas%20Praktikum%20Prokom/I0321111-Yunita-Prokom/Exercise-13/13_GUI.ipynb#ch0000013?line=26'>27</a>\u001b[0m c1 \u001b[39m=\u001b[39m tkinter\u001b[39m.\u001b[39mCheckbutton(mainform, variable\u001b[39m=\u001b[39mvar1, text\u001b[39m=\u001b[39m\u001b[39m\"\u001b[39m\u001b[39mMusik\u001b[39m\u001b[39m\"\u001b[39m)\n",
      "\u001b[1;31mAttributeError\u001b[0m: module 'tkinter' has no attribute 'w'"
     ]
    }
   ],
   "source": [
    "#kerjakan disini\n",
    "import tkinter\n",
    "import tkinter.messagebox\n",
    "\n",
    "def main():\n",
    "    mainform = tkinter.Tk()\n",
    "    mainform.title(\"Demo button\")\n",
    "    mainform.geometry(\"280x200\")\n",
    "    #Variabel yang akan dihubungkan\n",
    "    var1 = tkinter.IntVar()\n",
    "    var2 = tkinter.IntVar()\n",
    "    var3 = tkinter.IntVar()\n",
    "\n",
    "    #Fungsi lokal\n",
    "    def getchoice():\n",
    "        pilihan = [];\n",
    "        if var1.get() == 1: pilihan.append('Musik')\n",
    "        if var2.get() == 1: pilihan('Olahraga')\n",
    "        if var3.get() == 1: pilihan('Membaca')\n",
    "        tkinter.messagebox.showinfo(\"Informasi\", str(pilihan))\n",
    "\n",
    "    #Kontrol label\n",
    "    I = tkinter.Label(mainform, text=\"Hobi anda (pilih salah satu): \")\n",
    "    I.grid(row=0, sticky=tkinter.w)\n",
    "\n",
    "    #Membuat checkbutton\n",
    "    c1 = tkinter.Checkbutton(mainform, variable=var1, text=\"Musik\")\n",
    "    c1.grid(row=1, sticky=tkinter.W)\n",
    "\n",
    "    c1 = tkinter.Checkbutton(mainform, variable=var2, text=\"Olahraga\")\n",
    "    c1.grid(row=2, sticky=tkinter.W)\n",
    "\n",
    "    c1 = tkinter.Checkbutton(mainform, variable=var3, text=\"Mmebaca\")\n",
    "    c1.grid(row=3, sticky=tkinter.W)\n",
    "\n",
    "    #Mmebuat kontrol button\n",
    "    b1 = tkinter.Button(mainform, text=\"Ok\", command=getchoice, width=10)\n",
    "    b1.grid(row=4, sticky=tkinter.W, padx=4, pady=4)\n",
    "    b2 = tkinter.Button(mainform, text=\"Keluar\", command=quit, width=10)\n",
    "    b2.grid(row=4, sticky=tkinter.W, padx=90, pady=4)\n",
    "\n",
    "    mainform.mainloop()\n",
    "if __name__ == '__main__':\n",
    "    main()"
   ]
  },
  {
   "cell_type": "markdown",
   "metadata": {},
   "source": [
    "### 8. Kontrol Entry\n",
    "Buatlah kode seperti contoh berikut pada cell di bawah\n",
    "\n",
    "![](./images/13_EntryA.png)\n",
    "![](./images/13_EntryB.png)"
   ]
  },
  {
   "cell_type": "code",
   "execution_count": 3,
   "metadata": {},
   "outputs": [
    {
     "ename": "SyntaxError",
     "evalue": "expected ':' (3520403565.py, line 5)",
     "output_type": "error",
     "traceback": [
      "\u001b[1;36m  Input \u001b[1;32mIn [3]\u001b[1;36m\u001b[0m\n\u001b[1;33m    def main()\u001b[0m\n\u001b[1;37m              ^\u001b[0m\n\u001b[1;31mSyntaxError\u001b[0m\u001b[1;31m:\u001b[0m expected ':'\n"
     ]
    }
   ],
   "source": [
    "#kerjakan disini\n",
    "import tkinter\n",
    "import tkinter.messagebox\n",
    "\n",
    "def main()\n",
    "    mainform = tkinter.Tk()\n",
    "    mainform.title(\"Demo button\")\n",
    "    mainform.geometry(\"155x100\")\n",
    "    #Variabel yang akan dihubungkan\n",
    "    var1 = tkinter.StringVar()\n",
    "    #Menentukan nilai default\n",
    "    var1.set(\"Python...\")\n",
    "    #Fungsi callback\n",
    "    def kosongkan():\n",
    "        var1.set(\"\")\n",
    "    def ambilteks():\n",
    "        tkinter.messagebox.showinfo(\"Informasi\", var1.get())\n",
    "\n",
    "    #Membuat kontrol label\n",
    "    l = tkinter.Label(mainform, text=\"Masukkan teks\")\n",
    "    l.grid(row=0, column=0, columnspan=2, sticky=tkinter.W+tkinter.E, padx=4, pady=4)\n",
    "\n",
    "    #Membuat kontrol entry\n",
    "    e = tkinter.Entry(mainform, textvariable=var1)\n",
    "    e.grid(row=1, column=0, columnspan=2, sticky=tkinter.W+tkinter.E, padx=4, pady=4)\n",
    "   \n",
    "    #Membuat kontrol button\n",
    "    b1 = tkinter.Button(mainform, text=\"Kosongkan\", command=kosongkan)\n",
    "    b1.grid(row=2, column=0, padx=4, pady=4)\n",
    "    b2 = tkinter.Button(mainform, text=\"Ambil teks\", command=ambilteks)\n",
    "    b2.grid(row=2, column=1, padx=4, pady=4)\n",
    "\n",
    "    mainform.mainloop()\n",
    "if __name__ == '__main__':\n",
    "    main()"
   ]
  },
  {
   "cell_type": "markdown",
   "metadata": {},
   "source": [
    "***\n",
    "<h1 align=\"center\">Well Done!!!</h1> \n",
    "\n",
    "***"
   ]
  }
 ],
 "metadata": {
  "interpreter": {
   "hash": "d3473c05bc4c278e2069f522b4b2fd6f5c903cd169b5f7c077b79c5ddfc05d04"
  },
  "kernelspec": {
   "display_name": "Python 3.10.2 64-bit",
   "language": "python",
   "name": "python3"
  },
  "language_info": {
   "codemirror_mode": {
    "name": "ipython",
    "version": 3
   },
   "file_extension": ".py",
   "mimetype": "text/x-python",
   "name": "python",
   "nbconvert_exporter": "python",
   "pygments_lexer": "ipython3",
   "version": "3.10.2"
  },
  "orig_nbformat": 4
 },
 "nbformat": 4,
 "nbformat_minor": 2
}
