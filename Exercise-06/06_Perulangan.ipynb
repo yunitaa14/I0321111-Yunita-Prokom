{
 "cells": [
  {
   "cell_type": "markdown",
   "metadata": {},
   "source": [
    "***\n",
    "<h1 align=\"center\">Exercise 06</h1>\n",
    " \n",
    "***\n",
    "## While Loop\n",
    "## Exercise 6.1\n",
    "isilah bagian rumpang berikut. xx diganti tanggal lahir dan yy diganti menjadi bulan lahir. tandanya menyesuaikan yang lebih besar."
   ]
  },
  {
   "cell_type": "code",
   "execution_count": 2,
   "metadata": {},
   "outputs": [
    {
     "name": "stdout",
     "output_type": "stream",
     "text": [
      "Hidup harus tetap bernafas\n",
      "Hidup harus tetap bernafas\n",
      "Hidup harus tetap bernafas\n",
      "Hidup harus tetap bernafas\n",
      "Hidup harus tetap bernafas\n",
      "Hidup harus tetap bernafas\n",
      "Hidup harus tetap bernafas\n",
      "Hidup harus tetap bernafas\n",
      "Hidup harus tetap bernafas\n"
     ]
    }
   ],
   "source": [
    "#menentukan banyak pengulangan\n",
    "n = 14\n",
    "\n",
    "#melakukan pengulangan\n",
    "i = 6\n",
    "\n",
    "while i <= n :\n",
    "    print (\"Hidup harus tetap bernafas\")\n",
    "    #diisi motto kalian\n",
    "    i = i + 1 # sesuaikan dengan atas agar fungsi perulangan dapat berhenti\n"
   ]
  },
  {
   "cell_type": "markdown",
   "metadata": {},
   "source": [
    "## Exercise 6.2\n",
    "\n",
    "Buatlah code seperti yang dicontohkan pada modul agar user dapat menginputkan sendiri jumlah n yang diinginkan"
   ]
  },
  {
   "cell_type": "code",
   "execution_count": 30,
   "metadata": {},
   "outputs": [
    {
     "name": "stdout",
     "output_type": "stream",
     "text": [
      "6\n",
      "7\n",
      "8\n"
     ]
    }
   ],
   "source": [
    "#Kerjakan disini\n",
    "n = int(input('input nilai n= '))\n",
    "i = 6\n",
    "while i <= n :\n",
    "    print (i)\n",
    "    i = i + 1"
   ]
  },
  {
   "cell_type": "markdown",
   "metadata": {},
   "source": [
    "## Excercise 6.3\n",
    "\n",
    "isilah xx, yy, dan tanda rumpang seperti pada exercise 6.1\n"
   ]
  },
  {
   "cell_type": "code",
   "execution_count": 5,
   "metadata": {},
   "outputs": [
    {
     "name": "stdout",
     "output_type": "stream",
     "text": [
      "Baris ke-14 : The Lord of The Ring\n",
      "Baris ke-13 : The Lord of The Ring\n",
      "Baris ke-12 : The Lord of The Ring\n",
      "Baris ke-11 : The Lord of The Ring\n",
      "Baris ke-10 : The Lord of The Ring\n",
      "Baris ke-9 : The Lord of The Ring\n",
      "Baris ke-8 : The Lord of The Ring\n",
      "Baris ke-7 : The Lord of The Ring\n",
      "Baris ke-6 : The Lord of The Ring\n"
     ]
    }
   ],
   "source": [
    "#melakukan pengulangan\n",
    "i = 14\n",
    "\n",
    "while i >= 6 :\n",
    "    print (\"Baris ke-%d : The Lord of The Ring\"%i)\n",
    "    #isi titik-titik dengan judul film favorit kalian\n",
    "    i = i - 1 "
   ]
  },
  {
   "cell_type": "markdown",
   "metadata": {},
   "source": [
    "## FOR LOOP\n",
    "\n",
    "## Exercise 6.4\n",
    "\n",
    "munculkan 3 dari 7 elemen yang berada di dalam list1 dan list2\n"
   ]
  },
  {
   "cell_type": "code",
   "execution_count": 20,
   "metadata": {},
   "outputs": [
    {
     "name": "stdout",
     "output_type": "stream",
     "text": [
      "1 ['mie', 'bubur', 'coklat'] ['Semarang', 'Bandung', 'Jogja']\n",
      "2 ['mie', 'bubur', 'coklat'] ['Semarang', 'Bandung', 'Jogja']\n",
      "3 ['mie', 'bubur', 'coklat'] ['Semarang', 'Bandung', 'Jogja']\n"
     ]
    }
   ],
   "source": [
    "list1 = ['mie', 'bubur', 'coklat', 'bakso', 'permen', 'sate', 'mendoan'] #masukkan 7 list makanan favorit kalian\n",
    "list2 = ['Semarang', 'Bandung', 'Jogja', 'Kudus', 'Jakarta', 'Purbalingga', 'Malang'] #masukkan 7 list kota favorit kalian\n",
    "\n",
    "for i in range(0,3) :\n",
    "    print(i+1, list1[:3] , list2[:3])"
   ]
  },
  {
   "cell_type": "markdown",
   "metadata": {},
   "source": [
    "## Perulangan Bersarang\n",
    "\n",
    "## Exercise 6.5"
   ]
  },
  {
   "cell_type": "code",
   "execution_count": 23,
   "metadata": {},
   "outputs": [
    {
     "name": "stdout",
     "output_type": "stream",
     "text": [
      "196 \n",
      "182 169 \n",
      "168 156 144 \n",
      "154 143 132 121 \n",
      "140 130 120 110 100 \n",
      "126 117 108 99 90 81 \n",
      "112 104 96 88 80 72 64 \n",
      "98 91 84 77 70 63 56 49 \n",
      "84 78 72 66 60 54 48 42 36 \n"
     ]
    }
   ],
   "source": [
    "i = 14\n",
    "while i >= 6:\n",
    "    j = 14\n",
    "    while j>=i:\n",
    "        print(\"%d \" % (i*j), end = '')\n",
    "        j = j - 1\n",
    "    print()\n",
    "    i-=1"
   ]
  },
  {
   "cell_type": "markdown",
   "metadata": {},
   "source": [
    "## Pernyataan Loncat\n",
    "\n",
    "## Exercise 6.\n",
    "\n",
    "Buatlah fungsi berikut agar muncul angka hingga berhenti sesuai dengan nilai qq\n",
    "qq = angka favorit kalian\n",
    "pp>qq"
   ]
  },
  {
   "cell_type": "code",
   "execution_count": 28,
   "metadata": {},
   "outputs": [
    {
     "name": "stdout",
     "output_type": "stream",
     "text": [
      "012345"
     ]
    }
   ],
   "source": [
    "for i in range(21):\n",
    "    print(i, end='')\n",
    "    if i == 5:\n",
    "        break"
   ]
  },
  {
   "cell_type": "markdown",
   "metadata": {},
   "source": [
    "***\n",
    "<h1 align=\"center\">WELL DONE</h1>\n",
    " \n",
    "***"
   ]
  }
 ],
 "metadata": {
  "interpreter": {
   "hash": "cd08f94adcf3cbae37fe85286256f4c2a10455ca9094fd053e9f3d3f09647223"
  },
  "kernelspec": {
   "display_name": "Python 3.9.7 64-bit",
   "language": "python",
   "name": "python3"
  },
  "language_info": {
   "codemirror_mode": {
    "name": "ipython",
    "version": 3
   },
   "file_extension": ".py",
   "mimetype": "text/x-python",
   "name": "python",
   "nbconvert_exporter": "python",
   "pygments_lexer": "ipython3",
   "version": "3.10.2"
  },
  "orig_nbformat": 4
 },
 "nbformat": 4,
 "nbformat_minor": 2
}
